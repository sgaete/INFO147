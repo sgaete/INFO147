{
 "cells": [
  {
   "cell_type": "markdown",
   "metadata": {},
   "source": [
    "# Actividad práctica \n",
    "\n",
    "### Instrucciones\n",
    "- Escriba las rutinas de Python necesarias para resolver los problemas de cada punto\n",
    "- Siga las instrucciones y conteste donde se pida\n",
    "- Entregue el notebook con sus respuestas al correo: phuijse@inf.uach.cl\n",
    "- El trabajo es individual\n",
    "\n",
    "### Introducción\n",
    "En esta actividad usaremos la base de datos [*Auto Milles per Gallon Data Set*](https://archive.ics.uci.edu/ml/datasets/auto+mpg) del repositorio UCI\n",
    "\n",
    "Puede descargarla usando el siguiente bloque"
   ]
  },
  {
   "cell_type": "code",
   "execution_count": 1,
   "metadata": {
    "scrolled": true
   },
   "outputs": [
    {
     "name": "stderr",
     "output_type": "stream",
     "text": [
      "--2019-05-08 06:59:43--  https://archive.ics.uci.edu/ml/machine-learning-databases/auto-mpg/auto-mpg.data-original\n",
      "Cargado certificado CA '/etc/ssl/certs/ca-certificates.crt'\n",
      "Resolviendo archive.ics.uci.edu (archive.ics.uci.edu)... 128.195.10.252\n",
      "Conectando con archive.ics.uci.edu (archive.ics.uci.edu)[128.195.10.252]:443... conectado.\n",
      "Petición HTTP enviada, esperando respuesta... 200 OK\n",
      "Longitud: 32149 (31K) [application/x-httpd-php]\n",
      "Grabando a: “auto.csv”\n",
      "\n",
      "     0K .......... .......... .......... .                    100% 65,3K=0,5s\n",
      "\n",
      "2019-05-08 06:59:45 (65,3 KB/s) - “auto.csv” guardado [32149/32149]\n",
      "\n",
      "--2019-05-08 06:59:45--  https://archive.ics.uci.edu/ml/machine-learning-databases/auto-mpg/auto-mpg.names\n",
      "Cargado certificado CA '/etc/ssl/certs/ca-certificates.crt'\n",
      "Resolviendo archive.ics.uci.edu (archive.ics.uci.edu)... 128.195.10.252\n",
      "Conectando con archive.ics.uci.edu (archive.ics.uci.edu)[128.195.10.252]:443... conectado.\n",
      "Petición HTTP enviada, esperando respuesta... 200 OK\n",
      "Longitud: 1660 (1,6K) [application/x-httpd-php]\n",
      "Grabando a: “README”\n",
      "\n",
      "     0K .                                                     100% 40,5M=0s\n",
      "\n",
      "2019-05-08 06:59:47 (40,5 MB/s) - “README” guardado [1660/1660]\n",
      "\n"
     ]
    }
   ],
   "source": [
    "%%bash\n",
    "wget -O auto.csv -c https://archive.ics.uci.edu/ml/machine-learning-databases/auto-mpg/auto-mpg.data-original \n",
    "wget -O README -c https://archive.ics.uci.edu/ml/machine-learning-databases/auto-mpg/auto-mpg.names "
   ]
  },
  {
   "cell_type": "markdown",
   "metadata": {},
   "source": [
    "### Información preliminar\n",
    "\n",
    "1. Use las herramientas de UNIX para leer el archivo README en el notebook\n",
    "1. Responda ¿Cuántos y cuáles son los atributos (características)? ¿De qué tipo es cada uno?\n",
    "1. Responda ¿Cuantas instancias/ejemplos existen?\n"
   ]
  },
  {
   "cell_type": "code",
   "execution_count": null,
   "metadata": {},
   "outputs": [],
   "source": [
    "!head()"
   ]
  },
  {
   "cell_type": "markdown",
   "metadata": {},
   "source": [
    "### Lectura de datos\n",
    "\n",
    "1. Cree un `DataFrame` a partir de `auto.csv` \n",
    "    1. Use una columna por atributo* \n",
    "    1. Use los nombres de columna descritos en `README` \n",
    "1. Imprima las primeras 5 filas del dataframe\n",
    "\n",
    "**HINT:** Verifique el uso  del argumento `delim_whitespace`*"
   ]
  },
  {
   "cell_type": "code",
   "execution_count": null,
   "metadata": {},
   "outputs": [],
   "source": []
  },
  {
   "cell_type": "markdown",
   "metadata": {},
   "source": [
    "### Manipulación de columnas \n",
    "\n",
    "1. Convierta las columnas *cylinders*, *year* y *origin* a valores enteros\n",
    "1. Reemplace los valores $[1, 2, 3]$ de *origin* por *USA*, *Europe*, *Japan*, respectivamente\n",
    "1. Convierta los valores de la columna *mpg* (galones por milla) a kmpl (kilómetros por litro)\n",
    "1. Convierta los valores de la columna peso de libras (*pounds*) a kilogramos\n",
    "1. Modifique el nombre de la columna *mpg* a kmpl\n"
   ]
  },
  {
   "cell_type": "code",
   "execution_count": null,
   "metadata": {},
   "outputs": [],
   "source": []
  },
  {
   "cell_type": "markdown",
   "metadata": {},
   "source": [
    "### Datos perdidos\n",
    "\n",
    "1. Encuentre los nombres de los autos que tengan valores perdidos (*missing data*)\n",
    "1. Encuentre los nombres de los atributos que tengan valores perdidos\n",
    "1. Elimines las filas con atributos perdidos ¿Cuántas filas quedan en el dataframe?"
   ]
  },
  {
   "cell_type": "code",
   "execution_count": null,
   "metadata": {},
   "outputs": [],
   "source": []
  },
  {
   "cell_type": "markdown",
   "metadata": {},
   "source": [
    "### Multi-índice\n",
    "\n",
    "1. Cree un dataframe con dos columnas a partir del atributo \"*car name*\"\n",
    "    1. La primera columna debe tener la primera palabra del string en *car name**\n",
    "    1. La segunda columna debe tener el resto del string en *car name*\n",
    "1. Elimine la columna *car name* del dataframe y agregue estas nuevas columnas llamándolas *brand* y *model*, respectivamente\n",
    "1. ¿Cuántas marcas (*brand*) únicas existan? ¿Existen columnas repetidas o mal escritas? Mencione cuales y corrijalas**\n",
    "1. Cree un multi-índice que utilice como primera llave a *brand* y como segunda a *model*\n",
    "1. Muestre los autos con marca *Mazda*\n",
    "1. Usando groupby cuente la cantidad de modelos por marca\n",
    "\n",
    "**HINT:** Verifique el uso de `.str.split()`* y `str.replace()`**"
   ]
  },
  {
   "cell_type": "code",
   "execution_count": null,
   "metadata": {},
   "outputs": [],
   "source": []
  },
  {
   "cell_type": "markdown",
   "metadata": {},
   "source": [
    "### Buscando autos\n",
    "\n",
    "1. Por cada marca encuentre el auto más antiguo y el más nuevo\n",
    "1. Por cada marca encuentre el auto más pesado y el más liviano\n",
    "1. Por cada marca encuentre los autos con mayor y menor caballos de fuerza, respectivamente\n",
    "1. Por cada marca encuentre los autos con menor y mayor desempeño en términos de kmpl, respectivamente"
   ]
  },
  {
   "cell_type": "code",
   "execution_count": null,
   "metadata": {},
   "outputs": [],
   "source": []
  },
  {
   "cell_type": "markdown",
   "metadata": {},
   "source": [
    "### Análisis exploratorio\n",
    "\n",
    "1. Encuentre el promedio y la desviación estándar de cada atributo numérico en toda la tabla y por marca\n",
    "1. Construya gráficos de barras del rendimiento (kmpl) promedio en función del año, peso, origen,  número de cilindros y marca (use *barras de error* con la desviación estándar del rendimiento)\n",
    "1. Viendo estos gráficos, ¿Qué puede concluir respecto a la relación del rendimiento con estos factores?"
   ]
  },
  {
   "cell_type": "code",
   "execution_count": null,
   "metadata": {},
   "outputs": [],
   "source": []
  },
  {
   "cell_type": "markdown",
   "metadata": {},
   "source": [
    "### Gráficos interactivos\n",
    "\n",
    "1. Construya una interfaz gráfica usando `ipywidgets` que permita seleccionar dos atributos y los gráfique como un *scatter plot*\n",
    "    1. El primer atributo será el eje de abscisas y el segundo atributo el eje de ordenadas\n",
    "    1. Ese el atributo de origen como el color de los marcadores\n",
    "1. Los gráficos deben ser legibles, los ejes deben estar etiquetados, use leyenda para los marcadores"
   ]
  },
  {
   "cell_type": "code",
   "execution_count": null,
   "metadata": {},
   "outputs": [],
   "source": []
  }
 ],
 "metadata": {
  "kernelspec": {
   "display_name": "Python 3",
   "language": "python",
   "name": "python3"
  },
  "language_info": {
   "codemirror_mode": {
    "name": "ipython",
    "version": 3
   },
   "file_extension": ".py",
   "mimetype": "text/x-python",
   "name": "python",
   "nbconvert_exporter": "python",
   "pygments_lexer": "ipython3",
   "version": "3.7.3"
  }
 },
 "nbformat": 4,
 "nbformat_minor": 2
}
